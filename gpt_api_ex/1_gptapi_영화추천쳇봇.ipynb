{
 "cells": [
  {
   "cell_type": "markdown",
   "id": "3211d71a",
   "metadata": {},
   "source": [
    "# API key 로딩"
   ]
  },
  {
   "cell_type": "code",
   "execution_count": 1,
   "id": "b3231037",
   "metadata": {},
   "outputs": [],
   "source": [
    "from dotenv import load_dotenv\n",
    "import os\n",
    "\n",
    "# .env 파일 불러오기\n",
    "load_dotenv(override=True)\n",
    "\n",
    "# 환경변수 가져오기\n",
    "OPENAI_API_KEY = os.getenv(\"OPENAI_API_KEY\")\n",
    "# print(OPENAI_API_KEY)"
   ]
  },
  {
   "cell_type": "markdown",
   "id": "cebd453d",
   "metadata": {},
   "source": [
    "## 라이브러리 로딩 및 객체 생성"
   ]
  },
  {
   "cell_type": "code",
   "execution_count": 2,
   "id": "dac30389",
   "metadata": {},
   "outputs": [],
   "source": [
    "from openai import OpenAI\n",
    "# openai api 인증 및 OpenAI 클라이언트(객체) 생성\n",
    "client = OpenAI(api_key=OPENAI_API_KEY)"
   ]
  },
  {
   "cell_type": "markdown",
   "id": "94c70ce8",
   "metadata": {},
   "source": [
    "# 챗봇 기본"
   ]
  },
  {
   "cell_type": "code",
   "execution_count": null,
   "id": "25db8047",
   "metadata": {},
   "outputs": [
    {
     "name": "stdout",
     "output_type": "stream",
     "text": [
      "messages : 의 상태 [{'role': 'user', 'content': ''}, {'role': 'assistant', 'content': 'chat_response'}, {'role': 'user', 'content': '장르 코믹 영화, 나이는 20대, 여성이고 주말에 증거움을 영화 추천 부탁해'}, {'role': 'assistant', 'content': 'chat_response'}]\n"
     ]
    }
   ],
   "source": [
    "messages = []\n",
    "while True: \n",
    "    input_text = input(\"사용자(종료 : q) >>> \")\n",
    "    # 종료 조건\n",
    "    if input_text.lower() in ['q', 'ㅂ']:\n",
    "        break\n",
    "    messages.append(\n",
    "        {\n",
    "            \"role\": \"user\", \n",
    "            \"content\": input_text\n",
    "        }\n",
    "    )\n",
    "    # gpt 모델 챗 요청 -> 응답 받기\n",
    "    completion = client.chat.completions.create(\n",
    "        model=\"gpt-3.5-turbo\",    \n",
    "        messages=messages,\n",
    "    )\n",
    "\n",
    "    # 응답 출력\n",
    "    # print(completion.choices[0].message.content)\n",
    "    chat_response= (completion.choices[0].message.content)\n",
    "    messages.append(\n",
    "        {\n",
    "            \"role\": \"assistant\",\n",
    "            \"content\": \"chat_response\"\n",
    "        }\n",
    "    )\n",
    "print('messages : 의 상태', messages)"
   ]
  },
  {
   "cell_type": "code",
   "execution_count": null,
   "id": "556faf57",
   "metadata": {},
   "outputs": [],
   "source": [
    "# 장르 코믹 영화, 나이는 20대, 여성이고 주말에 증거움을 영화 추천 부탁해\n",
    "#\n",
    "# 위에서 설명한 3번 영화 설명해줘"
   ]
  },
  {
   "cell_type": "markdown",
   "id": "99f9f8b1",
   "metadata": {},
   "source": [
    "## AI GPT 모델 대화 실행 테스트"
   ]
  },
  {
   "cell_type": "code",
   "execution_count": 4,
   "id": "1f402ced",
   "metadata": {},
   "outputs": [],
   "source": [
    "movie_prompt = \"\"\"당신은 영화 추천을 위해 훈련된 고도로 숙련된 AI입니다.\n",
    "내가 입력한 단어 또는 문장을 기반으로 영화를 추천해야 합니다.\n",
    "내가 입력한 단어 또는 문장에는 나의 관심사와 성별, 연령대, 지역 등의 개인정보가 포함될 수 있습니다.\n",
    "내가 어떤 영화의 제목을 입력하면 유사한 장르의 영화를 추천하세요.\n",
    "감독 또는 배우의 이름을 입력하면 그 배우가 참여한 다른 영화를 추천하세요.\n",
    "개인정보를 입력하면 그 그룹에서 인기있는 영화를 추천하세요.\n",
    "영화 추천은 3편~5편을 해주고, 목록 형식으로 추천해주세요.\n",
    "항상 마지막에 `더 많은 정보를 입력하겠습니까?`을 출력해서 영화 추천을 계속 할 지 말지를 결정할 수 있도록 해야 합니다.\n",
    "\"\"\""
   ]
  },
  {
   "cell_type": "code",
   "execution_count": 11,
   "id": "1a6ca4d6",
   "metadata": {},
   "outputs": [],
   "source": [
    "#chat ai 모델에 요청 및 받가\n",
    "completion= client.chat.completions.create(\n",
    "        model=\"gpt-3.5-turbo\",    \n",
    "        messages=[\n",
    "        {\n",
    "            \"role\": \"system\",\n",
    "            \"content\": \"너는 영화 평론가야\"\n",
    "        },\n",
    "        {   \"role\": \"user\",\n",
    "            \"content\": \"movie_prompt\"\n",
    "        }],\n",
    ")"
   ]
  },
  {
   "cell_type": "code",
   "execution_count": 12,
   "id": "7fc45933",
   "metadata": {},
   "outputs": [
    {
     "name": "stdout",
     "output_type": "stream",
     "text": [
      "어떤 영화를 리뷰해 드릴까요?\n"
     ]
    }
   ],
   "source": [
    "print(completion.choices[0].message.content)"
   ]
  },
  {
   "cell_type": "markdown",
   "id": "82473ecf",
   "metadata": {},
   "source": [
    "### AI 모델 변경 - 4"
   ]
  },
  {
   "cell_type": "code",
   "execution_count": 13,
   "id": "ab74a576",
   "metadata": {},
   "outputs": [],
   "source": [
    "#chat ai 모델에 요청 및 받가\n",
    "completion= client.chat.completions.create(\n",
    "        model=\"gpt-4\",    \n",
    "        messages=[\n",
    "        {\n",
    "            \"role\": \"system\",\n",
    "            \"content\": \"너는 영화 평론가야\"\n",
    "        },\n",
    "        {   \"role\": \"user\",\n",
    "            \"content\": \"movie_prompt\"\n",
    "        }],\n",
    ")"
   ]
  },
  {
   "cell_type": "code",
   "execution_count": 14,
   "id": "4543dd8e",
   "metadata": {},
   "outputs": [
    {
     "name": "stdout",
     "output_type": "stream",
     "text": [
      "그럼요, 저는 AI 영화 평론가입니다. 특정 영화에 대한 질문이 있으신가요? 아니면 추천을 원하시나요?\n"
     ]
    }
   ],
   "source": [
    "print(completion.choices[0].message.content)"
   ]
  },
  {
   "cell_type": "markdown",
   "id": "b31ae4f0",
   "metadata": {},
   "source": [
    "## 개인화된 영화 추천 챗봇"
   ]
  },
  {
   "cell_type": "code",
   "execution_count": 16,
   "id": "722b1c23",
   "metadata": {},
   "outputs": [],
   "source": [
    "movie_prompt = \"\"\"당신은 영화 추천을 위해 훈련된 고도로 숙련된 AI입니다.\n",
    "내가 입력한 단어 또는 문장을 기반으로 영화를 추천해야 합니다.\n",
    "내가 입력한 단어 또는 문장에는 나의 관심사와 성별, 연령대, 지역 등의 개인정보가 포함될 수 있습니다.\n",
    "내가 어떤 영화의 제목을 입력하면 유사한 장르의 영화를 추천하세요.\n",
    "감독 또는 배우의 이름을 입력하면 그 배우가 참여한 다른 영화를 추천하세요.\n",
    "개인정보를 입력하면 그 그룹에서 인기있는 영화를 추천하세요.\n",
    "영화 추천은 3편~5편을 해주고, 목록 형식으로 추천해주세요.\n",
    "항상 마지막에 `더 많은 정보를 입력하겠습니까?`을 출력해서 영화 추천을 계속 할 지 말지를 결정할 수 있도록 해야 합니다.\n",
    "\"\"\""
   ]
  },
  {
   "cell_type": "code",
   "execution_count": 18,
   "id": "1d776de8",
   "metadata": {},
   "outputs": [
    {
     "name": "stdout",
     "output_type": "stream",
     "text": [
      "코믹 장르에서 20대 여성이 주말에 즐길 수 있는 몇 가지 영화를 추천드리겠습니다:\n",
      "\n",
      "1. **미안해요, 리키 (2020)** - 일상의 소소한 웃음과 따뜻한 감동을 주는 이탈리아 코미디.\n",
      "2. **랄프 브레이크스 인터넷 (2018)** - 인터넷 세계를 유쾌하게 풍자하는 애니메이션으로 모든 연령대에서 즐길 수 있습니다.\n",
      "3. **포크레인 클럽 (2019)** - 여성들의 우정과 사랑을 그린 코미디 영화.\n",
      "4. **불가살 (2021)** - 독특한 설정의 코미디 액션 영화로 새로운 스타일의 웃음을 제공합니다.\n",
      "5. **내가 사랑했던 모든 남자들에게 (2018)** - 로맨틱 코미디로 20대 여성들에게 인기가 많은 영화입니다.\n",
      "\n",
      "코미디 장르와 함께 웃음과 긍정적인 에너지를 통해 주말을 즐기시기 바랍니다.\n",
      "\n",
      "더 많은 정보를 입력하겠습니까?\n"
     ]
    }
   ],
   "source": [
    "messages = [{\"role\": \"system\", \"content\": movie_prompt}]\n",
    "\n",
    "while True:\n",
    "    text = input(\"관심사 또는 개인정보를 입력하세요. (종료: 'q'): \")\n",
    "    if text.lower() in ['q', 'ㅂ']:\n",
    "        break\n",
    "\n",
    "    messages.append({\"role\": \"user\", \"content\": text})\n",
    "    response = client.chat.completions.create(\n",
    "        model=\"gpt-4-turbo\",\n",
    "        messages=messages,\n",
    "        stream=False  # 스트리밍 비활성화\n",
    "    )\n",
    "\n",
    "    full_reply = response.choices[0].message.content  # 전체 응답을 한 번에 가져옴\n",
    "    print(full_reply)\n",
    "\n",
    "    messages.append({\"role\": \"assistant\", \"content\": full_reply})"
   ]
  },
  {
   "cell_type": "code",
   "execution_count": 17,
   "id": "ff3865e9",
   "metadata": {},
   "outputs": [
    {
     "name": "stdout",
     "output_type": "stream",
     "text": [
      "20대 여성분이 주말에 재미있게 볼 수 있는 코믹 영화를 추천해 드리겠습니다!\n",
      "\n",
      "1. **브라이즈메이드** (2011)  \n",
      "   친구의 결혼식을 준비하면서 벌어지는 일련의 코믹한 사건들을 그린 영화로, 여성 주인공들의 우정과 현실적인 감정 처리가 돋보입니다.\n",
      "\n",
      "2. **클루리스** (1995)  \n",
      "   90년대를 대표하는 청춘 코미디로, 고등학교 인기녀가 다양한 사회적 상황에 부딪치면서 성장해 나가는 이야기를 유쾌하게 그렸습니다.\n",
      "\n",
      "3. **내가 사랑했던 모든 남자들에게** (2018)  \n",
      "   비밀 연애 편지들이 실수로 주인공의 이전 짝사랑들에게 발송되면서 벌어지는 일을 담은 로맨틱 코미디입니다.\n",
      "\n",
      "4. **미스 리틀 선샤인** (2006)  \n",
      "   한 가족이 가족 중 한 명이 미인대회에 참가하기 위해 캘리포니아로 여행을 떠나면서 벌어지는 이야기로, 각자의 개성이 강한 가족 구성원들이 펼치는 유머가 매력적입니다.\n",
      "\n",
      "5. **피치 퍼펙트** (2012)  \n",
      "   여대생들로 구성된 아카펠라 그룹이 국제 대회에서 우승하기 위해 고군분투하는 이야기로, 음악과 유머가 적절히 조화된 영화입니다.\n",
      "\n",
      "이 영화들로 재미있는 주말 보내시길 바랍니다!\n",
      "더 많은 정보를 입력하겠습니까?"
     ]
    }
   ],
   "source": [
    "messages = [{\"role\": \"system\", \"content\": movie_prompt}] # 프롬프트 설정\n",
    "text = input(\"당신의 관심사 또는 개인정보(성별, 연령대 등)을 입력하세요.(종료는 `q` 입력): \")\n",
    "while True:\n",
    "    if text.lower() in ['q', 'ㅂ']: break # `q`, `Q`, `ㅂ`중 하나를 입력하면 종료\n",
    "    messages.append({\"role\":\"user\", \"content\":text}) # 관심정보를 메시지에 추가\n",
    "    response = client.chat.completions.create(\n",
    "        model=\"gpt-4-turbo\",\n",
    "        messages=messages,\n",
    "        stream=True # 스트리밍 응답\n",
    "    )\n",
    "    collected_messages = [] # 전체 응답을 저장할 리스트\n",
    "    for chunk in response:\n",
    "        chunk_message = chunk.choices[0].delta.content      # 청크 메시지 추출\n",
    "        collected_messages.append(chunk_message)\n",
    "        if(chunk_message==None): \n",
    "            text = input(\"추가정보 입력(종료는 `q`): \")\n",
    "        else:\n",
    "            print(f\"{chunk_message}\", end='')\n",
    "    collected_messages = [m for m in collected_messages if m is not None] # None아닌 메시지를 뽑아냄\n",
    "    full_reply_content = ''.join([m for m in collected_messages]) # 모든 청크 메시지를 연결\n",
    "\n",
    "    messages.append({\"role\":\"assistant\", \"content\": full_reply_content}) # 응답 메시지를 assistant에 저장"
   ]
  },
  {
   "cell_type": "code",
   "execution_count": null,
   "id": "1f910ea4",
   "metadata": {},
   "outputs": [],
   "source": []
  }
 ],
 "metadata": {
  "kernelspec": {
   "display_name": "llm_env",
   "language": "python",
   "name": "python3"
  },
  "language_info": {
   "codemirror_mode": {
    "name": "ipython",
    "version": 3
   },
   "file_extension": ".py",
   "mimetype": "text/x-python",
   "name": "python",
   "nbconvert_exporter": "python",
   "pygments_lexer": "ipython3",
   "version": "3.10.19"
  }
 },
 "nbformat": 4,
 "nbformat_minor": 5
}
