{
 "cells": [
  {
   "cell_type": "markdown",
   "id": "73ea7a0f",
   "metadata": {},
   "source": [
    "# 토큰 계산하기"
   ]
  },
  {
   "cell_type": "code",
   "execution_count": 1,
   "id": "01983ac1",
   "metadata": {},
   "outputs": [
    {
     "name": "stdout",
     "output_type": "stream",
     "text": [
      "토큰 개수: 23\n"
     ]
    }
   ],
   "source": [
    "import tiktoken\n",
    "\n",
    "# 예시: GPT-4 모델 기준 인코더 선택\n",
    "encoding = tiktoken.encoding_for_model(\"gpt-4-turbo\")\n",
    "\n",
    "text = \"안녕하세요. 오늘 날씨가 참 좋네요.\"\n",
    "tokens = encoding.encode(text)\n",
    "print(\"토큰 개수:\", len(tokens))"
   ]
  },
  {
   "cell_type": "code",
   "execution_count": null,
   "id": "805dac83",
   "metadata": {},
   "outputs": [],
   "source": []
  }
 ],
 "metadata": {
  "kernelspec": {
   "display_name": "llm_env",
   "language": "python",
   "name": "python3"
  },
  "language_info": {
   "codemirror_mode": {
    "name": "ipython",
    "version": 3
   },
   "file_extension": ".py",
   "mimetype": "text/x-python",
   "name": "python",
   "nbconvert_exporter": "python",
   "pygments_lexer": "ipython3",
   "version": "3.10.19"
  }
 },
 "nbformat": 4,
 "nbformat_minor": 5
}
