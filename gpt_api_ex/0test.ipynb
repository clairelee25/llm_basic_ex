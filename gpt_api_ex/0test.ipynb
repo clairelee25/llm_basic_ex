{
 "cells": [
  {
   "cell_type": "markdown",
   "id": "3cdec9df",
   "metadata": {},
   "source": [
    "# open api key 테스트"
   ]
  },
  {
   "cell_type": "markdown",
   "id": "3211d71a",
   "metadata": {},
   "source": [
    "# API key 로딩"
   ]
  },
  {
   "cell_type": "code",
   "execution_count": 39,
   "id": "b3231037",
   "metadata": {},
   "outputs": [],
   "source": [
    "from dotenv import load_dotenv\n",
    "import os\n",
    "\n",
    "# .env 파일 불러오기\n",
    "load_dotenv(override=True)\n",
    "\n",
    "# 환경변수 가져오기\n",
    "OPENAI_API_KEY = os.getenv(\"OPENAI_API_KEY\")\n",
    "# print(OPENAI_API_KEY)"
   ]
  },
  {
   "cell_type": "markdown",
   "id": "cebd453d",
   "metadata": {},
   "source": [
    "## 라이브러리 로딩 및 객체 생성"
   ]
  },
  {
   "cell_type": "code",
   "execution_count": 15,
   "id": "dac30389",
   "metadata": {},
   "outputs": [],
   "source": [
    "from openai import OpenAI\n",
    "# openai api 인증 및 OpenAI 클라이언트(객체) 생성\n",
    "client = OpenAI(api_key=OPENAI_API_KEY)"
   ]
  },
  {
   "cell_type": "markdown",
   "id": "7b75151e",
   "metadata": {},
   "source": [
    "## gpt ai 모델에 질문하기"
   ]
  },
  {
   "cell_type": "code",
   "execution_count": 16,
   "id": "88c82bd1",
   "metadata": {},
   "outputs": [],
   "source": [
    "response = client.responses.create(\n",
    "    model=\"gpt-5\",\n",
    "    input=\"안녕, gpt-5는 처음이야. 인사만 하자\"\n",
    ")"
   ]
  },
  {
   "cell_type": "markdown",
   "id": "b1ee47fc",
   "metadata": {},
   "source": [
    "## 응답결과 파싱"
   ]
  },
  {
   "cell_type": "code",
   "execution_count": 17,
   "id": "d7430689",
   "metadata": {},
   "outputs": [
    {
     "name": "stdout",
     "output_type": "stream",
     "text": [
      "Response(id='resp_075038dbc5c674920068fed7f75e2c81a0b4edfcf8fed833bc', created_at=1761531895.0, error=None, incomplete_details=None, instructions=None, metadata={}, model='gpt-5-2025-08-07', object='response', output=[ResponseReasoningItem(id='rs_075038dbc5c674920068fed7f80cac81a09c26138eeb9d3e9b', summary=[], type='reasoning', content=None, encrypted_content=None, status=None), ResponseOutputMessage(id='msg_075038dbc5c674920068fed7f9ba2081a0b57fc19a95dff0b5', content=[ResponseOutputText(annotations=[], text='안녕하세요! 만나서 반가워요. 저는 GPT-5예요. 좋은 하루 보내세요!', type='output_text', logprobs=[])], role='assistant', status='completed', type='message')], parallel_tool_calls=True, temperature=1.0, tool_choice='auto', tools=[], top_p=1.0, background=False, conversation=None, max_output_tokens=None, max_tool_calls=None, previous_response_id=None, prompt=None, prompt_cache_key=None, reasoning=Reasoning(effort='medium', generate_summary=None, summary=None), safety_identifier=None, service_tier='default', status='completed', text=ResponseTextConfig(format=ResponseFormatText(type='text'), verbosity='medium'), top_logprobs=0, truncation='disabled', usage=ResponseUsage(input_tokens=23, input_tokens_details=InputTokensDetails(cached_tokens=0), output_tokens=156, output_tokens_details=OutputTokensDetails(reasoning_tokens=128), total_tokens=179), user=None, billing={'payer': 'developer'}, store=True)\n"
     ]
    }
   ],
   "source": [
    "print(response)"
   ]
  },
  {
   "cell_type": "markdown",
   "id": "9d9fa35c",
   "metadata": {},
   "source": [
    "- AI의 응답결과  \n",
    "Response(id='resp_0d294b4a535ec5410068fecd3c0ce88197936e7e78eea44fb3', created_at=1761529148.0, error=None, incomplete_details=None, instructions=None, metadata={}, model='gpt-5-2025-08-07', object='response', output=[ResponseReasoningItem(id='rs_0d294b4a535ec5410068fecd3c85e48197a6c35a026238d955', summary=[], type='reasoning', content=None, encrypted_content=None, status=None), ResponseOutputMessage(id='msg_0d294b4a535ec5410068fecd40dde481978a10d15e59f119d3', content=[ResponseOutputText(annotations=[], text='안녕! 처음 만나서 반가워.', type='output_text', logprobs=[])], role='assistant', status='completed', type='message')], parallel_tool_calls=True, temperature=1.0, tool_choice='auto', tools=[], top_p=1.0, background=False, conversation=None, max_output_tokens=None, max_tool_calls=None, previous_response_id=None, prompt=None, prompt_cache_key=None, reasoning=Reasoning(effort='medium', generate_summary=None, summary=None), safety_identifier=None, service_tier='default', status='completed', text=ResponseTextConfig(format=ResponseFormatText(type='text'), verbosity='medium'), top_logprobs=0, truncation='disabled', usage=ResponseUsage(input_tokens=23, input_tokens_details=InputTokensDetails(cached_tokens=0), output_tokens=272, output_tokens_details=OutputTokensDetails(reasoning_tokens=256), total_tokens=295), user=None, billing={'payer': 'developer'}, store=True)"
   ]
  },
  {
   "cell_type": "code",
   "execution_count": 18,
   "id": "2382559e",
   "metadata": {},
   "outputs": [
    {
     "name": "stdout",
     "output_type": "stream",
     "text": [
      "안녕하세요! 만나서 반가워요. 저는 GPT-5예요. 좋은 하루 보내세요!\n"
     ]
    }
   ],
   "source": [
    "print(response.output_text)"
   ]
  },
  {
   "cell_type": "markdown",
   "id": "8adc2f45",
   "metadata": {},
   "source": [
    "## 플레이그라운드를 이용 실습"
   ]
  },
  {
   "cell_type": "code",
   "execution_count": 22,
   "id": "41680a01",
   "metadata": {},
   "outputs": [],
   "source": [
    "from openai import OpenAI\n",
    "client = OpenAI(api_key=OPENAI_API_KEY)\n",
    "\n",
    "response = client.responses.create(\n",
    "  prompt={\n",
    "    \"id\": \"pmpt_68fedc3e697c819596e7daa2a6926a3e09fae60d0214f750\",\n",
    "    \"version\": \"1\",\n",
    "    \"variables\": {\n",
    "      \"city\": \"제주도 서귀포시\"\n",
    "    }\n",
    "  }\n",
    ")"
   ]
  },
  {
   "cell_type": "code",
   "execution_count": 23,
   "id": "64993f60",
   "metadata": {},
   "outputs": [
    {
     "data": {
      "text/plain": [
       "Response(id='resp_0d3fe38800f562e10068fedcf61738819791039d2326edcb59', created_at=1761533174.0, error=None, incomplete_details=None, instructions=[EasyInputMessage(content=[ResponseInputText(text='너는 여행전문가야. 친절하게 답변해줘', type='input_text')], role='system', type='message'), EasyInputMessage(content=[ResponseInputText(text='사용자 질문이 들어오면 제주도 서귀포시 의 관광을 안내해줘', type='input_text')], role='user', type='message')], metadata={}, model='gpt-5-chat-latest', object='response', output=[ResponseOutputMessage(id='msg_0d3fe38800f562e10068fedcf742f08197ba7b08c7705e89f7', content=[ResponseOutputText(annotations=[], text='좋아요! 😊  \\n앞으로 사용자가 질문을 하면 **제주도 서귀포시 관광** 중심으로 안내를 드리면 되는군요.  \\n확인 차 정리하자면, 제가 답변할 때는 다음과 같은 방식으로 도와드리면 될까요?\\n\\n1. **서귀포시 주요 관광지 소개** (예: 천지연폭포, 정방폭포, 주상절리대, 쇠소깍 등)  \\n2. **맛집, 카페 추천** (현지인 맛집, 오션뷰 카페 등)  \\n3. **숙소·교통 안내** (렌터카, 버스, 숙박 지역별 특징)  \\n4. **계절별 여행 포인트** (봄 유채꽃, 여름 해변, 가을 억새, 겨울 감귤 체험 등)  \\n5. **여행 일정 제안** (1박2일, 2박3일 코스 등)\\n\\n이런 식으로 답변드리면 될까요?  \\n확인만 해주시면, 이후부터는 서귀포시 중심으로 맞춤형 여행 안내를 시작하겠습니다 🌴✨', type='output_text', logprobs=[])], role='assistant', status='completed', type='message')], parallel_tool_calls=True, temperature=1.0, tool_choice='auto', tools=[], top_p=1.0, background=False, conversation=None, max_output_tokens=2048, max_tool_calls=None, previous_response_id=None, prompt=ResponsePrompt(id='pmpt_68fedc3e697c819596e7daa2a6926a3e09fae60d0214f750', variables={'city': ResponseInputText(text='제주도 서귀포시', type='input_text')}, version='1'), prompt_cache_key=None, reasoning=Reasoning(effort=None, generate_summary=None, summary=None), safety_identifier=None, service_tier='default', status='completed', text=ResponseTextConfig(format=ResponseFormatText(type='text'), verbosity='medium'), top_logprobs=0, truncation='disabled', usage=ResponseUsage(input_tokens=45, input_tokens_details=InputTokensDetails(cached_tokens=0), output_tokens=256, output_tokens_details=OutputTokensDetails(reasoning_tokens=0), total_tokens=301), user=None, billing={'payer': 'developer'}, store=True)"
      ]
     },
     "execution_count": 23,
     "metadata": {},
     "output_type": "execute_result"
    }
   ],
   "source": [
    "response"
   ]
  },
  {
   "cell_type": "code",
   "execution_count": 25,
   "id": "4f130e95",
   "metadata": {},
   "outputs": [
    {
     "data": {
      "text/plain": [
       "'좋아요! 😊  \\n앞으로 사용자가 질문을 하면 **제주도 서귀포시 관광** 중심으로 안내를 드리면 되는군요.  \\n확인 차 정리하자면, 제가 답변할 때는 다음과 같은 방식으로 도와드리면 될까요?\\n\\n1. **서귀포시 주요 관광지 소개** (예: 천지연폭포, 정방폭포, 주상절리대, 쇠소깍 등)  \\n2. **맛집, 카페 추천** (현지인 맛집, 오션뷰 카페 등)  \\n3. **숙소·교통 안내** (렌터카, 버스, 숙박 지역별 특징)  \\n4. **계절별 여행 포인트** (봄 유채꽃, 여름 해변, 가을 억새, 겨울 감귤 체험 등)  \\n5. **여행 일정 제안** (1박2일, 2박3일 코스 등)\\n\\n이런 식으로 답변드리면 될까요?  \\n확인만 해주시면, 이후부터는 서귀포시 중심으로 맞춤형 여행 안내를 시작하겠습니다 🌴✨'"
      ]
     },
     "execution_count": 25,
     "metadata": {},
     "output_type": "execute_result"
    }
   ],
   "source": [
    "response.output_text"
   ]
  },
  {
   "cell_type": "markdown",
   "id": "721a48a8",
   "metadata": {},
   "source": [
    "# GPT 모델 프롬프트 이해\n",
    "- 프롬프트 구조 이해"
   ]
  },
  {
   "cell_type": "code",
   "execution_count": 26,
   "id": "648000fd",
   "metadata": {},
   "outputs": [],
   "source": [
    "# openai gpt 객체 생성\n",
    "client = OpenAI(api_key=OPENAI_API_KEY)\n"
   ]
  },
  {
   "cell_type": "code",
   "execution_count": null,
   "id": "1e59f0f9",
   "metadata": {},
   "outputs": [],
   "source": [
    "completion = client.chat.completions.create(\n",
    "    model=\"gpt-5\",\n",
    "    messages=[\n",
    "        # system 프롬프트\n",
    "        {\n",
    "            \"role\":\"system\",\n",
    "            \"content\": \"너는 IT 전문가야. 초등학생도 이해할 수 있도록 답변 부탁해\"\n",
    "        },\n",
    "        # User 프롬프트\n",
    "        {\n",
    "            \"role\":\"user\",\n",
    "            \"content\" : \"클라우드와 플랫폼의 차이점을 설명해줘\"\n",
    "        }\n",
    "    ],\n",
    "    temperature=1,\n",
    "    # max_tokens=1024, <-- 사용자 설정 불가능\n",
    "    # top_p=0.5 <-- 사용자 설정 불가능\n",
    "\n",
    ") "
   ]
  },
  {
   "cell_type": "code",
   "execution_count": 36,
   "id": "edf7ea31",
   "metadata": {},
   "outputs": [
    {
     "name": "stdout",
     "output_type": "stream",
     "text": [
      "쉽게 말해 볼게요.\n",
      "\n",
      "- 클라우드: 인터넷을 통해 멀리 있는 큰 컴퓨터(서버)와 저장공간을 “빌려 쓰는 것”이에요. 필요할 때 켜서 쓰고, 다 쓰면 끄면 돼요.\n",
      "  - 비유: 전기나 수도처럼 필요할 때 틀어 쓰는 것, 혹은 렌터카 빌려 타는 것\n",
      "  - 예: AWS, Azure, GCP, 네이버 클라우드\n",
      "\n",
      "- 플랫폼: 사람들이 프로그램(앱)을 “만들고, 올리고, 돌릴 수 있게” 도와주는 환경(바닥, 무대)이에요. 도구와 규칙을 한꺼번에 줘요.\n",
      "  - 비유: 요리를 하게 해주는 주방, 레고를 조립하는 판, 게임을 올리는 콘솔\n",
      "  - 예: 안드로이드, iOS, 윈도우, 로블록스 스튜디오, 헤로쿠\n",
      "\n",
      "- 차이 한 줄 정리:\n",
      "  - 클라우드 = 어디서 컴퓨터 힘을 빌려 쓰느냐(장소/자원)\n",
      "  - 플랫폼 = 어떻게 앱을 만들고 돌리느냐(도구/무대)\n",
      "\n",
      "- 관계:\n",
      "  - 많은 플랫폼이 클라우드 위에서 돌아가요. 즉, 클라우드(빌린 컴퓨터) 위에 플랫폼(무대)을 깔고, 그 위에 앱이 올라가는 식이에요.\n"
     ]
    }
   ],
   "source": [
    "print(completion.choices[0].message.content)"
   ]
  },
  {
   "cell_type": "code",
   "execution_count": 37,
   "id": "07f6412c",
   "metadata": {},
   "outputs": [],
   "source": [
    "    # model=\"gpt-4\"\n",
    "completion = client.chat.completions.create(\n",
    "    model=\"gpt-4\",\n",
    "    messages=[\n",
    "        # system 프롬프트\n",
    "        {\n",
    "            \"role\":\"system\",\n",
    "            \"content\": \"너는 IT 전문가야. 초등학생도 이해할 수 있도록 답변 부탁해\"\n",
    "        },\n",
    "        # User 프롬프트\n",
    "        {\n",
    "            \"role\":\"user\",\n",
    "            \"content\" : \"클라우드와 플랫폼의 차이점을 설명해줘\"\n",
    "        }\n",
    "    ],\n",
    "    temperature=1,\n",
    "    max_tokens=4000, \n",
    "    top_p=0.5 \n",
    "\n",
    ") "
   ]
  },
  {
   "cell_type": "code",
   "execution_count": 38,
   "id": "eeb59103",
   "metadata": {},
   "outputs": [
    {
     "name": "stdout",
     "output_type": "stream",
     "text": [
      "그럼요, 좋아요! \n",
      "\n",
      "클라우드를 생각해보면, 우리가 집에 있는 장난감들을 모두 큰 상자에 넣어서 다른 친구의 집에 보관하는 것을 생각해볼 수 있어요. 그럼 우리는 집에서 언제든지 그 장난감들을 가지고 놀 수 있지만, 장난감들은 다른 친구의 집에 있어요. 이게 바로 클라우드의 개념이에요. 우리의 데이터(장난감)를 인터넷을 통해 다른 곳에 저장하고, 필요할 때 언제든지 사용할 수 있어요.\n",
      "\n",
      "그럼 플랫폼은 뭘까요? 플랫폼은 마치 우리가 놀이터에서 놀 수 있는 다양한 놀이기구들을 생각해볼 수 있어요. 미끄럼틀이 있고, 그네가 있고, 회전목마가 있죠. 이런 놀이기구들이 모여서 하나의 놀이터를 만드는 것처럼, 플랫폼은 여러 가지 서비스와 기능들이 모여서 하나의 시스템을 만드는 것이에요. \n",
      "\n",
      "그래서 클라우드는 우리의 데이터를 다른 곳에 저장하고 사용할 수 있게 해주는 곳이고, 플랫폼은 다양한 서비스와 기능들이 모여서 사용자에게 제공되는 시스템이라고 할 수 있어요.\n"
     ]
    }
   ],
   "source": [
    "print(completion.choices[0].message.content)"
   ]
  },
  {
   "cell_type": "code",
   "execution_count": null,
   "id": "73018b4f",
   "metadata": {},
   "outputs": [],
   "source": []
  }
 ],
 "metadata": {
  "kernelspec": {
   "display_name": "llm_env",
   "language": "python",
   "name": "python3"
  },
  "language_info": {
   "codemirror_mode": {
    "name": "ipython",
    "version": 3
   },
   "file_extension": ".py",
   "mimetype": "text/x-python",
   "name": "python",
   "nbconvert_exporter": "python",
   "pygments_lexer": "ipython3",
   "version": "3.10.19"
  }
 },
 "nbformat": 4,
 "nbformat_minor": 5
}
