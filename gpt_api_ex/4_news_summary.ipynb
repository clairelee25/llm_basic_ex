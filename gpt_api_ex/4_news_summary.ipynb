{
 "cells": [
  {
   "cell_type": "markdown",
   "id": "df6b4f1f",
   "metadata": {},
   "source": [
    "# 뉴스 요약하고 문서화하기"
   ]
  },
  {
   "cell_type": "markdown",
   "id": "3211d71a",
   "metadata": {},
   "source": [
    "# API key 로딩"
   ]
  },
  {
   "cell_type": "code",
   "execution_count": 1,
   "id": "b3231037",
   "metadata": {},
   "outputs": [],
   "source": [
    "from dotenv import load_dotenv\n",
    "import os\n",
    "\n",
    "# .env 파일 불러오기\n",
    "load_dotenv(override=True)\n",
    "\n",
    "# 환경변수 가져오기\n",
    "OPENAI_API_KEY = os.getenv(\"OPENAI_API_KEY\")\n",
    "# print(OPENAI_API_KEY)"
   ]
  },
  {
   "cell_type": "markdown",
   "id": "cebd453d",
   "metadata": {},
   "source": [
    "## 라이브러리 로딩 및 객체 생성"
   ]
  },
  {
   "cell_type": "code",
   "execution_count": 2,
   "id": "dac30389",
   "metadata": {},
   "outputs": [],
   "source": [
    "from openai import OpenAI\n",
    "# openai api 인증 및 OpenAI 클라이언트(객체) 생성\n",
    "client = OpenAI(api_key=OPENAI_API_KEY)"
   ]
  },
  {
   "cell_type": "markdown",
   "id": "b7ee0292",
   "metadata": {},
   "source": [
    "summary_prompt = \"\"\"당신은 언어 이해 및 요약에 훈련된 고도로 숙련된 AI입니다.\n",
    "다음 텍스트를 읽고 간결한 추상적 단락으로 요약했으면 합니다.\n",
    "전체 텍스트를 읽을 필요 없이 토론의 요점을 이해하는 데 도움이 될 수 있는 일관되고\n",
    "읽을 수 있는 요약을 제공하여 가장 중요한 요점을 유지하는 것을 목표로 합니다.\n",
    "불필요한 세부 사항이나 접선 사항은 피하십시오.\"\"\"\n",
    "key_points_prompt = \"\"\"당신은 정보를 핵심 포인트로 전달하는 데 특화된 능숙한 AI입니다.\n",
    "다음 텍스트를 기반으로 논의되거나 언급된 주요 포인트를 확인하고 나열합니다.\n",
    "이는 논의의 본질에 가장 중요한 아이디어, 결과 또는 주제가 되어야 합니다.\n",
    "당신의 목표는 누군가가 읽을 수 있는 목록을 제공하여 이야기된 내용을 빠르게 이해하는 것입니다.\"\"\"\n",
    "action_items_prompt = \"\"\"당신은 대화를 분석하고 행동 항목을 추출하는 데 있어 AI 전문가입니다.\n",
    "본문을 검토하고 합의되거나 수행이 필요하다고 언급된 모든 작업, 과제 또는 행동을 식별하십시오.\n",
    "이것들은 특정 개인에게 할당된 작업일 수도 있고 그룹이 취하기로 결정한 일반적인 행동일 수도 있습니다.\n",
    "이러한 행동 항목을 명확하고 간결하게 나열하십시오.\"\"\"\n",
    "sentiment_prompt = \"\"\"당신은 언어와 감정 분석에 전문성을 갖춘 AI로서 당신의 과제는 다음 텍스트의 감\n",
    "정을 분석하는 것입니다.\n",
    "토론의 전체적인 톤, 사용된 언어가 전달하는 감정, 단어와 구가 사용되는 맥락을 고려하십시오.\n",
    "감정이 일반적으로 긍정적인지 부정적인지 중립적인지를 표시하고 가능한 한 당신의 분석에 대해 간략한 설명을 제\n",
    "공하십시오.\"\"\""
   ]
  },
  {
   "cell_type": "markdown",
   "id": "604e4541",
   "metadata": {},
   "source": [
    "## 번역 함수"
   ]
  },
  {
   "cell_type": "code",
   "execution_count": 4,
   "id": "340afb02",
   "metadata": {},
   "outputs": [],
   "source": [
    "def text_extraction(text, prompt):\n",
    "    response = client.chat.completions.create(\n",
    "        model=\"gpt-4-turbo\",\n",
    "        temperature=0,\n",
    "        messages=[\n",
    "        { \"role\": \"system\", \"content\": prompt },\n",
    "        { \"role\": \"user\", \"content\": text }\n",
    "        ]\n",
    "    )\n",
    "    return response.choices[0].message.content"
   ]
  },
  {
   "cell_type": "markdown",
   "id": "126ab23b",
   "metadata": {},
   "source": [
    "### 음성 파일 -> text로 변환"
   ]
  },
  {
   "cell_type": "code",
   "execution_count": 7,
   "id": "866a1972",
   "metadata": {},
   "outputs": [],
   "source": [
    "audio_file_path = \"datas/news.mp3\"\n",
    "with open(audio_file_path, 'rb') as audio_file:\n",
    "    transcription = client.audio.transcriptions.create(\n",
    "    model=\"whisper-1\",\n",
    "    file=audio_file,\n",
    "    response_format=\"text\"\n",
    ")"
   ]
  },
  {
   "cell_type": "markdown",
   "id": "abbdbe96",
   "metadata": {},
   "source": [
    "### summary 하기"
   ]
  },
  {
   "cell_type": "code",
   "execution_count": 18,
   "id": "c6408657",
   "metadata": {},
   "outputs": [
    {
     "name": "stdout",
     "output_type": "stream",
     "text": [
      "abstract_summary\n",
      " Due to a short rainy season and prolonged heatwave, wasp activity has increased significantly, leading to a surge in emergency calls to firefighters for nest removals. Firefighters, donned in protective white suits to avoid wasp attacks, are busier than ever, responding to up to 15 incidents a day during peak activity months of August and September. The increase in wasp-related emergencies has risen by 57% compared to the previous year, with firefighters advising the public to check for nests and maintain a distance of about 20 meters from active wasp sites to avoid attacks.\n",
      "\n",
      "key_points\n",
      " 1. 짧은 장마와 긴 폭염으로 인해 말벌 활동이 증가하였으며, 이로 인해 소방대원들의 벌집 제거 출동이 빈번해졌습니다.\n",
      "2. 소방대원들은 보호복을 착용하고 스프레이를 사용하여 벌집을 제거하는 작업을 수행하고 있으며, 이 과정에서 말벌들이 흩어지거나 죽는 모습이 관찰됩니다.\n",
      "3. 소방당국은 말벌의 공격을 피하기 위해 주변에 벌집이 있는지 확인하고 신고할 것을 권장하며, 말벌이 공격할 경우 즉시 현장에서 20미터 이상 떨어질 것을 조언합니다.\n",
      "4. 지난달 소방에 접수된 벌집 제거 출동은 44,000건으로, 전년 대비 57% 증가하였습니다.\n",
      "\n",
      "action_items\n",
      " 1. 소방대원들이 보호복을 입고 스프레이를 사용하여 벌집을 제거합니다.\n",
      "2. 소방대원들이 사람들을 대피시킨 후 벌집을 제거합니다.\n",
      "3. 소방대원들이 말벌 보호복을 입고 밴드를 붙여 벌이 들어가지 못하도록 합니다.\n",
      "4. 소방당국은 주변에 벌집이 있는지 잘 살펴보고 신고할 것을 권장합니다.\n",
      "5. 소방당국은 벌이 공격할 때는 현장에서 20미터 정도 빨리 벗어날 것을 조언합니다.\n",
      "\n",
      "sentiment\n",
      " 이 텍스트의 전반적인 감정은 부정적입니다. 짧은 장마와 긴 폭염으로 인해 말벌의 활동이 증가하고, 이로 인해 소방대원들의 출동이 빈번해지며, 말벌 쏘임 사고도 증가하는 상황을 보고하고 있습니다. 이러한 상황은 공공의 안전에 대한 우려를 불러일으키며, 소방당국의 조언과 대응 조치에 대한 정보도 포함하고 있어, 사회적 문제와 대응책에 대한 중요성을 강조하고 있습니다.\n",
      "\n"
     ]
    }
   ],
   "source": [
    "# 요약용 프롬프트들 정의\n",
    "# summary_prompt = \"Summarize the transcription in 3 concise sentences.\"\n",
    "# key_points_prompt = \"Extract 3 to 5 key points from the transcription.\"\n",
    "# action_items_prompt = \"List the specific actions or next steps mentioned in the transcription.\"\n",
    "# sentiment_prompt = \"Analyze the overall sentiment (positive, neutral, or negative) of the transcription.\"\n",
    "\n",
    "\n",
    "abstract_summary = text_extraction(transcription, summary_prompt)\n",
    "key_points = text_extraction(transcription, key_points_prompt)\n",
    "action_items = text_extraction(transcription, action_items_prompt)\n",
    "sentiment = text_extraction(transcription, sentiment_prompt)\n",
    "\n",
    "news_data = {\n",
    "    'abstract_summary': abstract_summary,\n",
    "    'key_points': key_points,\n",
    "    'action_items': action_items,\n",
    "    'sentiment': sentiment\n",
    "}\n",
    "\n",
    "for key, value in news_data.items():\n",
    "    print(f'{key}\\n {value}\\n')\n",
    "\n"
   ]
  },
  {
   "cell_type": "markdown",
   "id": "ba4b26d7",
   "metadata": {},
   "source": [
    "### doc 파일로 저장하기"
   ]
  },
  {
   "cell_type": "code",
   "execution_count": 21,
   "id": "54dd5fdd",
   "metadata": {},
   "outputs": [],
   "source": [
    "import os\n",
    "from docx import Document\n",
    "\n",
    "# 폴더 자동 생성\n",
    "os.makedirs(\"output\", exist_ok=True)\n",
    "\n",
    "doc = Document()\n",
    "\n",
    "for key, value in news_data.items():\n",
    "    # _로 나눈 단어들을 대문자로 만들고 공백으로 연결\n",
    "    heading = ' '.join(word.capitalize() for word in key.split('_'))\n",
    "    doc.add_heading(heading, level=1)\n",
    "    doc.add_paragraph(value)\n",
    "    # 섹션 사이에 줄바꿈 추가\n",
    "    doc.add_paragraph()\n",
    "    \n",
    "# 워드 파일로 데이터 저장\n",
    "doc.save('output/news_minutes.docx')"
   ]
  },
  {
   "cell_type": "code",
   "execution_count": null,
   "id": "f8992ca1",
   "metadata": {},
   "outputs": [],
   "source": []
  }
 ],
 "metadata": {
  "kernelspec": {
   "display_name": "llm_env",
   "language": "python",
   "name": "python3"
  },
  "language_info": {
   "codemirror_mode": {
    "name": "ipython",
    "version": 3
   },
   "file_extension": ".py",
   "mimetype": "text/x-python",
   "name": "python",
   "nbconvert_exporter": "python",
   "pygments_lexer": "ipython3",
   "version": "3.10.19"
  }
 },
 "nbformat": 4,
 "nbformat_minor": 5
}
